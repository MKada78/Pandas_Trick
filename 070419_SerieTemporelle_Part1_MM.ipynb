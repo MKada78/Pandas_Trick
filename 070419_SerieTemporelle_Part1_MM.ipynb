{
 "cells": [
  {
   "cell_type": "markdown",
   "metadata": {},
   "source": [
    "#### Analyse de série temporelle avec Python"
   ]
  },
  {
   "cell_type": "code",
   "execution_count": 1,
   "metadata": {
    "collapsed": false
   },
   "outputs": [],
   "source": [
    "import pandas as pd\n",
    "import pandas_datareader.data as web\n",
    "import numpy as np\n",
    "import matplotlib.pyplot as plt\n",
    "from sklearn.linear_model import LinearRegression\n",
    "%matplotlib inline"
   ]
  },
  {
   "cell_type": "markdown",
   "metadata": {},
   "source": [
    "Dans cet tutoriel, nous nous intéressons au cours de l'action ford sur le marché US. Pour ce faire, nous utiliserons la fonction **DataReader** de pandas."
   ]
  },
  {
   "cell_type": "code",
   "execution_count": 2,
   "metadata": {
    "collapsed": false
   },
   "outputs": [],
   "source": [
    "#### Création d'un data frame avec les valeur de l'action Ford de 2012 à 2019\n",
    "ford = web.DataReader('F', data_source= \"yahoo\", start = \"3/14/2012\", end = \"4/04/2019\" )"
   ]
  },
  {
   "cell_type": "markdown",
   "metadata": {},
   "source": [
    "On obtient un dataframe de 6 colonnes pour chaque date de cotation (Index).\n",
    "* **Open** le prix d'ouverture\n",
    "* **High** le prix le plus haut\n",
    "* **Low** le prix le plus bas \n",
    "* **Close** le prix de clôture de l'action\n",
    "* **Adj Close** le prix ajusté de clôture (cf ouverture de capital)\n",
    "* **Volume** qui correspond au nombre d'actions échangé le jour"
   ]
  },
  {
   "cell_type": "code",
   "execution_count": 4,
   "metadata": {
    "collapsed": false
   },
   "outputs": [
    {
     "data": {
      "text/html": [
       "<div>\n",
       "<table border=\"1\" class=\"dataframe\">\n",
       "  <thead>\n",
       "    <tr style=\"text-align: right;\">\n",
       "      <th></th>\n",
       "      <th>Open</th>\n",
       "      <th>High</th>\n",
       "      <th>Low</th>\n",
       "      <th>Close</th>\n",
       "      <th>Adj Close</th>\n",
       "      <th>Volume</th>\n",
       "    </tr>\n",
       "    <tr>\n",
       "      <th>Date</th>\n",
       "      <th></th>\n",
       "      <th></th>\n",
       "      <th></th>\n",
       "      <th></th>\n",
       "      <th></th>\n",
       "      <th></th>\n",
       "    </tr>\n",
       "  </thead>\n",
       "  <tbody>\n",
       "    <tr>\n",
       "      <th>2019-03-29</th>\n",
       "      <td>8.80</td>\n",
       "      <td>8.89</td>\n",
       "      <td>8.71</td>\n",
       "      <td>8.78</td>\n",
       "      <td>8.78</td>\n",
       "      <td>33962800</td>\n",
       "    </tr>\n",
       "    <tr>\n",
       "      <th>2019-04-01</th>\n",
       "      <td>8.86</td>\n",
       "      <td>9.00</td>\n",
       "      <td>8.86</td>\n",
       "      <td>8.98</td>\n",
       "      <td>8.98</td>\n",
       "      <td>45653100</td>\n",
       "    </tr>\n",
       "    <tr>\n",
       "      <th>2019-04-02</th>\n",
       "      <td>8.95</td>\n",
       "      <td>9.03</td>\n",
       "      <td>8.91</td>\n",
       "      <td>9.01</td>\n",
       "      <td>9.01</td>\n",
       "      <td>30699400</td>\n",
       "    </tr>\n",
       "    <tr>\n",
       "      <th>2019-04-03</th>\n",
       "      <td>9.07</td>\n",
       "      <td>9.27</td>\n",
       "      <td>9.06</td>\n",
       "      <td>9.13</td>\n",
       "      <td>9.13</td>\n",
       "      <td>56663600</td>\n",
       "    </tr>\n",
       "    <tr>\n",
       "      <th>2019-04-04</th>\n",
       "      <td>9.21</td>\n",
       "      <td>9.30</td>\n",
       "      <td>9.18</td>\n",
       "      <td>9.24</td>\n",
       "      <td>9.24</td>\n",
       "      <td>39468800</td>\n",
       "    </tr>\n",
       "  </tbody>\n",
       "</table>\n",
       "</div>"
      ],
      "text/plain": [
       "            Open  High   Low  Close  Adj Close    Volume\n",
       "Date                                                    \n",
       "2019-03-29  8.80  8.89  8.71   8.78       8.78  33962800\n",
       "2019-04-01  8.86  9.00  8.86   8.98       8.98  45653100\n",
       "2019-04-02  8.95  9.03  8.91   9.01       9.01  30699400\n",
       "2019-04-03  9.07  9.27  9.06   9.13       9.13  56663600\n",
       "2019-04-04  9.21  9.30  9.18   9.24       9.24  39468800"
      ]
     },
     "execution_count": 4,
     "metadata": {},
     "output_type": "execute_result"
    }
   ],
   "source": [
    "ford.head(5)\n",
    "ford.tail(5) ### 5 dernière valeurs du cours"
   ]
  },
  {
   "cell_type": "code",
   "execution_count": 7,
   "metadata": {
    "collapsed": false
   },
   "outputs": [
    {
     "data": {
      "text/plain": [
       "(1777, 6)"
      ]
     },
     "execution_count": 7,
     "metadata": {},
     "output_type": "execute_result"
    }
   ],
   "source": [
    "ford.shape #### 1777 valeurs pour l'interval choisie"
   ]
  },
  {
   "cell_type": "code",
   "execution_count": 18,
   "metadata": {
    "collapsed": false
   },
   "outputs": [
    {
     "data": {
      "text/plain": [
       "Open         8.703400e+00\n",
       "High         8.821900e+00\n",
       "Low          8.580400e+00\n",
       "Close        8.691800e+00\n",
       "Adj Close    8.470797e+00\n",
       "Volume       4.453092e+07\n",
       "dtype: float64"
      ]
     },
     "execution_count": 18,
     "metadata": {},
     "output_type": "execute_result"
    }
   ],
   "source": [
    "##### Moyenne sur les 100 dernières valeurs pour avoir un ordre d'idée du prix de l'action\n",
    "\n",
    "import numpy as np \n",
    "\n",
    "len(ford.iloc[1677:1777,:]) #### 100 dernières valeurs\n",
    "\n",
    "np.mean(ford.iloc[1677:1777, :])"
   ]
  },
  {
   "cell_type": "markdown",
   "metadata": {},
   "source": [
    "En moyenne sur les 100 dernières valeurs, l'action ford vaut **8.70** dollars."
   ]
  },
  {
   "cell_type": "markdown",
   "metadata": {},
   "source": [
    "On crée une nouvelle variable qui correspond aux rangs de l'action dans notre data frame de la plus ancienne à la plus récente. On l'appelera \"**Num**\"."
   ]
  },
  {
   "cell_type": "code",
   "execution_count": 19,
   "metadata": {
    "collapsed": false
   },
   "outputs": [],
   "source": [
    "ford[\"Num\"] = range(1, len(ford) +1) ##### Incrémente la valeur suivant son rang dans le dataset"
   ]
  },
  {
   "cell_type": "code",
   "execution_count": 21,
   "metadata": {
    "collapsed": false
   },
   "outputs": [
    {
     "data": {
      "text/html": [
       "<div>\n",
       "<table border=\"1\" class=\"dataframe\">\n",
       "  <thead>\n",
       "    <tr style=\"text-align: right;\">\n",
       "      <th></th>\n",
       "      <th>Open</th>\n",
       "      <th>High</th>\n",
       "      <th>Low</th>\n",
       "      <th>Close</th>\n",
       "      <th>Adj Close</th>\n",
       "      <th>Volume</th>\n",
       "      <th>Num</th>\n",
       "    </tr>\n",
       "    <tr>\n",
       "      <th>Date</th>\n",
       "      <th></th>\n",
       "      <th></th>\n",
       "      <th></th>\n",
       "      <th></th>\n",
       "      <th></th>\n",
       "      <th></th>\n",
       "      <th></th>\n",
       "    </tr>\n",
       "  </thead>\n",
       "  <tbody>\n",
       "    <tr>\n",
       "      <th>2012-03-13</th>\n",
       "      <td>12.48</td>\n",
       "      <td>12.72</td>\n",
       "      <td>12.40</td>\n",
       "      <td>12.70</td>\n",
       "      <td>9.386694</td>\n",
       "      <td>42783600</td>\n",
       "      <td>1</td>\n",
       "    </tr>\n",
       "    <tr>\n",
       "      <th>2012-03-14</th>\n",
       "      <td>12.64</td>\n",
       "      <td>12.90</td>\n",
       "      <td>12.63</td>\n",
       "      <td>12.88</td>\n",
       "      <td>9.519732</td>\n",
       "      <td>47578500</td>\n",
       "      <td>2</td>\n",
       "    </tr>\n",
       "    <tr>\n",
       "      <th>2012-03-15</th>\n",
       "      <td>12.90</td>\n",
       "      <td>13.04</td>\n",
       "      <td>12.83</td>\n",
       "      <td>12.90</td>\n",
       "      <td>9.534516</td>\n",
       "      <td>55286600</td>\n",
       "      <td>3</td>\n",
       "    </tr>\n",
       "    <tr>\n",
       "      <th>2012-03-16</th>\n",
       "      <td>12.86</td>\n",
       "      <td>12.90</td>\n",
       "      <td>12.51</td>\n",
       "      <td>12.51</td>\n",
       "      <td>9.246262</td>\n",
       "      <td>77119600</td>\n",
       "      <td>4</td>\n",
       "    </tr>\n",
       "    <tr>\n",
       "      <th>2012-03-19</th>\n",
       "      <td>12.52</td>\n",
       "      <td>12.68</td>\n",
       "      <td>12.48</td>\n",
       "      <td>12.63</td>\n",
       "      <td>9.334954</td>\n",
       "      <td>52445700</td>\n",
       "      <td>5</td>\n",
       "    </tr>\n",
       "  </tbody>\n",
       "</table>\n",
       "</div>"
      ],
      "text/plain": [
       "             Open   High    Low  Close  Adj Close    Volume  Num\n",
       "Date                                                            \n",
       "2012-03-13  12.48  12.72  12.40  12.70   9.386694  42783600    1\n",
       "2012-03-14  12.64  12.90  12.63  12.88   9.519732  47578500    2\n",
       "2012-03-15  12.90  13.04  12.83  12.90   9.534516  55286600    3\n",
       "2012-03-16  12.86  12.90  12.51  12.51   9.246262  77119600    4\n",
       "2012-03-19  12.52  12.68  12.48  12.63   9.334954  52445700    5"
      ]
     },
     "execution_count": 21,
     "metadata": {},
     "output_type": "execute_result"
    }
   ],
   "source": [
    "ford[:5]"
   ]
  },
  {
   "cell_type": "code",
   "execution_count": 66,
   "metadata": {
    "collapsed": false
   },
   "outputs": [
    {
     "data": {
      "image/png": "[encoded data removed]",
      "text/plain": [
       "<matplotlib.figure.Figure at 0x2b69c343780>"
      ]
     },
     "metadata": {},
     "output_type": "display_data"
    }
   ],
   "source": [
    "#### On trace le prix de l'action en fonction du temps\n",
    "\n",
    "def graph(x,y,data):\n",
    "    \n",
    "    \"\"\"\n",
    "        Graphique une variable en fonction de l'autre\n",
    "            Entrée: Nom colonne 1 (x), nom colonne 2 (y) et données (data)\n",
    "            \n",
    "            Sortie: Graphique\n",
    "    \"\"\"\n",
    "\n",
    "    graph = data.plot(\"Num\", \"Open\", legend = False, title = \"Action Ford\", color = (1,0,0));\n",
    "    graph.legend = None\n",
    "    graph.set_ylabel('Prix de l\\'action')\n",
    "    \n",
    "\n",
    "graph(\"Num\", \"Open\", ford)"
   ]
  },
  {
   "cell_type": "markdown",
   "metadata": {},
   "source": [
    "Dans cette partie, on ne sélectionnera qu'un dixième et un vingtième des données:"
   ]
  },
  {
   "cell_type": "markdown",
   "metadata": {},
   "source": [
    "**10 %** des données:"
   ]
  },
  {
   "cell_type": "code",
   "execution_count": 57,
   "metadata": {
    "collapsed": false
   },
   "outputs": [],
   "source": [
    "#### On ne sélectionne que 10% des données\n",
    "un_dixieme = ford.sample(frac = .1, random_state = np.random.randint(10))"
   ]
  },
  {
   "cell_type": "code",
   "execution_count": 58,
   "metadata": {
    "collapsed": true
   },
   "outputs": [],
   "source": [
    "#### De la même façon avec 5% des données\n",
    "\n",
    "un_vingtieme = ford.sample(frac = .05, random_state = np.random.randint(10))"
   ]
  },
  {
   "cell_type": "code",
   "execution_count": 59,
   "metadata": {
    "collapsed": false
   },
   "outputs": [
    {
     "data": {
      "text/html": [
       "<div>\n",
       "<table border=\"1\" class=\"dataframe\">\n",
       "  <thead>\n",
       "    <tr style=\"text-align: right;\">\n",
       "      <th></th>\n",
       "      <th>Open</th>\n",
       "      <th>High</th>\n",
       "      <th>Low</th>\n",
       "      <th>Close</th>\n",
       "      <th>Adj Close</th>\n",
       "      <th>Volume</th>\n",
       "      <th>Num</th>\n",
       "    </tr>\n",
       "    <tr>\n",
       "      <th>Date</th>\n",
       "      <th></th>\n",
       "      <th></th>\n",
       "      <th></th>\n",
       "      <th></th>\n",
       "      <th></th>\n",
       "      <th></th>\n",
       "      <th></th>\n",
       "    </tr>\n",
       "  </thead>\n",
       "  <tbody>\n",
       "    <tr>\n",
       "      <th>2015-11-11</th>\n",
       "      <td>14.28</td>\n",
       "      <td>14.38</td>\n",
       "      <td>14.18</td>\n",
       "      <td>14.31</td>\n",
       "      <td>11.834980</td>\n",
       "      <td>16893000</td>\n",
       "      <td>924</td>\n",
       "    </tr>\n",
       "    <tr>\n",
       "      <th>2017-08-16</th>\n",
       "      <td>10.86</td>\n",
       "      <td>10.90</td>\n",
       "      <td>10.78</td>\n",
       "      <td>10.80</td>\n",
       "      <td>9.721380</td>\n",
       "      <td>28316300</td>\n",
       "      <td>1367</td>\n",
       "    </tr>\n",
       "    <tr>\n",
       "      <th>2013-03-26</th>\n",
       "      <td>13.35</td>\n",
       "      <td>13.37</td>\n",
       "      <td>13.24</td>\n",
       "      <td>13.31</td>\n",
       "      <td>10.055574</td>\n",
       "      <td>24236700</td>\n",
       "      <td>260</td>\n",
       "    </tr>\n",
       "    <tr>\n",
       "      <th>2012-12-28</th>\n",
       "      <td>12.55</td>\n",
       "      <td>12.88</td>\n",
       "      <td>12.52</td>\n",
       "      <td>12.87</td>\n",
       "      <td>9.652084</td>\n",
       "      <td>95668600</td>\n",
       "      <td>201</td>\n",
       "    </tr>\n",
       "    <tr>\n",
       "      <th>2012-03-15</th>\n",
       "      <td>12.90</td>\n",
       "      <td>13.04</td>\n",
       "      <td>12.83</td>\n",
       "      <td>12.90</td>\n",
       "      <td>9.534516</td>\n",
       "      <td>55286600</td>\n",
       "      <td>3</td>\n",
       "    </tr>\n",
       "  </tbody>\n",
       "</table>\n",
       "</div>"
      ],
      "text/plain": [
       "             Open   High    Low  Close  Adj Close    Volume   Num\n",
       "Date                                                             \n",
       "2015-11-11  14.28  14.38  14.18  14.31  11.834980  16893000   924\n",
       "2017-08-16  10.86  10.90  10.78  10.80   9.721380  28316300  1367\n",
       "2013-03-26  13.35  13.37  13.24  13.31  10.055574  24236700   260\n",
       "2012-12-28  12.55  12.88  12.52  12.87   9.652084  95668600   201\n",
       "2012-03-15  12.90  13.04  12.83  12.90   9.534516  55286600     3"
      ]
     },
     "execution_count": 59,
     "metadata": {},
     "output_type": "execute_result"
    }
   ],
   "source": [
    "un_dixieme.head()"
   ]
  },
  {
   "cell_type": "markdown",
   "metadata": {},
   "source": [
    "PB: Valeur ne sont pas dans l'ordre"
   ]
  },
  {
   "cell_type": "code",
   "execution_count": 41,
   "metadata": {
    "collapsed": false
   },
   "outputs": [
    {
     "data": {
      "text/html": [
       "<div>\n",
       "<table border=\"1\" class=\"dataframe\">\n",
       "  <thead>\n",
       "    <tr style=\"text-align: right;\">\n",
       "      <th></th>\n",
       "      <th>Open</th>\n",
       "      <th>High</th>\n",
       "      <th>Low</th>\n",
       "      <th>Close</th>\n",
       "      <th>Adj Close</th>\n",
       "      <th>Volume</th>\n",
       "      <th>Num</th>\n",
       "    </tr>\n",
       "    <tr>\n",
       "      <th>Date</th>\n",
       "      <th></th>\n",
       "      <th></th>\n",
       "      <th></th>\n",
       "      <th></th>\n",
       "      <th></th>\n",
       "      <th></th>\n",
       "      <th></th>\n",
       "    </tr>\n",
       "  </thead>\n",
       "  <tbody>\n",
       "    <tr>\n",
       "      <th>2017-05-17</th>\n",
       "      <td>10.940000</td>\n",
       "      <td>10.95</td>\n",
       "      <td>10.67</td>\n",
       "      <td>10.76</td>\n",
       "      <td>9.562569</td>\n",
       "      <td>54670100</td>\n",
       "      <td>1304</td>\n",
       "    </tr>\n",
       "    <tr>\n",
       "      <th>2015-03-26</th>\n",
       "      <td>16.110001</td>\n",
       "      <td>16.17</td>\n",
       "      <td>15.96</td>\n",
       "      <td>16.01</td>\n",
       "      <td>12.853803</td>\n",
       "      <td>33327900</td>\n",
       "      <td>764</td>\n",
       "    </tr>\n",
       "    <tr>\n",
       "      <th>2016-02-08</th>\n",
       "      <td>11.390000</td>\n",
       "      <td>11.69</td>\n",
       "      <td>11.25</td>\n",
       "      <td>11.59</td>\n",
       "      <td>9.704153</td>\n",
       "      <td>45274500</td>\n",
       "      <td>983</td>\n",
       "    </tr>\n",
       "    <tr>\n",
       "      <th>2017-09-21</th>\n",
       "      <td>11.710000</td>\n",
       "      <td>11.82</td>\n",
       "      <td>11.69</td>\n",
       "      <td>11.72</td>\n",
       "      <td>10.549499</td>\n",
       "      <td>40319400</td>\n",
       "      <td>1392</td>\n",
       "    </tr>\n",
       "    <tr>\n",
       "      <th>2013-06-18</th>\n",
       "      <td>15.540000</td>\n",
       "      <td>15.71</td>\n",
       "      <td>15.44</td>\n",
       "      <td>15.65</td>\n",
       "      <td>11.910292</td>\n",
       "      <td>25950200</td>\n",
       "      <td>318</td>\n",
       "    </tr>\n",
       "  </tbody>\n",
       "</table>\n",
       "</div>"
      ],
      "text/plain": [
       "                 Open   High    Low  Close  Adj Close    Volume   Num\n",
       "Date                                                                 \n",
       "2017-05-17  10.940000  10.95  10.67  10.76   9.562569  54670100  1304\n",
       "2015-03-26  16.110001  16.17  15.96  16.01  12.853803  33327900   764\n",
       "2016-02-08  11.390000  11.69  11.25  11.59   9.704153  45274500   983\n",
       "2017-09-21  11.710000  11.82  11.69  11.72  10.549499  40319400  1392\n",
       "2013-06-18  15.540000  15.71  15.44  15.65  11.910292  25950200   318"
      ]
     },
     "execution_count": 41,
     "metadata": {},
     "output_type": "execute_result"
    }
   ],
   "source": [
    "un_dixieme.head()"
   ]
  },
  {
   "cell_type": "code",
   "execution_count": 60,
   "metadata": {
    "collapsed": false,
    "scrolled": true
   },
   "outputs": [],
   "source": [
    "#### On enleve l'index de ce data frame\n",
    "\n",
    "un_dixieme.index.name = None\n",
    "un_dixieme.head()####Plus le nom de l'index Date\n",
    "\n",
    "un_vingtieme.index.name = None"
   ]
  },
  {
   "cell_type": "code",
   "execution_count": 61,
   "metadata": {
    "collapsed": false
   },
   "outputs": [],
   "source": [
    "#### On tri les valeurs par Num\n",
    "\n",
    "un_dixieme = un_dixieme.sort_values(by = [\"Num\"], ascending = [True])\n",
    "un_dixieme[[\"Open\", \"Close\", \"Num\"]]#### Double crôchet\n",
    "un_vingtieme = un_vingtieme.sort_values(by = [\"Num\"], ascending = [True])"
   ]
  },
  {
   "cell_type": "code",
   "execution_count": 68,
   "metadata": {
    "collapsed": false
   },
   "outputs": [
    {
     "data": {
      "image/png": "[encoded data removed]",
      "text/plain": [
       "<matplotlib.figure.Figure at 0x2b69c7ad588>"
      ]
     },
     "metadata": {},
     "output_type": "display_data"
    },
    {
     "data": {
      "image/png": "[encoded data removed]",
      "text/plain": [
       "<matplotlib.figure.Figure at 0x2b69c810b70>"
      ]
     },
     "metadata": {},
     "output_type": "display_data"
    }
   ],
   "source": [
    "#### On trace le graphique original par rapport à l'echantillon de données\n",
    "\n",
    "#### Un dixième\n",
    "graph(\"Num\", \"Open\", un_dixieme)\n",
    "\n",
    "#### Un vingtième\n",
    "graph(\"Num\", \"Open\", un_vingtieme)\n"
   ]
  },
  {
   "cell_type": "code",
   "execution_count": 70,
   "metadata": {
    "collapsed": false
   },
   "outputs": [
    {
     "data": {
      "image/png": "[encoded data removed]",
      "text/plain": [
       "<matplotlib.figure.Figure at 0x2b69ca23550>"
      ]
     },
     "metadata": {},
     "output_type": "display_data"
    }
   ],
   "source": [
    "#### On affiche les deux graphiques en même temps\n",
    "\n",
    "#### Sous graphique d'une ligne et 2 colonnes\n",
    "\n",
    "\n",
    "def trois_graph(x, y):\n",
    "    \n",
    "    \"\"\"\n",
    "        Fonction qui retourne trois graphiques (Action ford, 10% des valeurs aléatoires et 5% des valeurs)\n",
    "        \n",
    "        Entrée: Nom de colonne x et y\n",
    "        \n",
    "        Sortie: Trois graphiques\n",
    "    \n",
    "    \"\"\"\n",
    "    #### Une ligne et trois tableaux \n",
    "    fig, axes = plt.subplots(nrows = 1, ncols = 3, figsize = (10,5))\n",
    "    #### Affichage premier tableau \n",
    "    axes[0].plot(x, y, data = ford)\n",
    "    axes[0].set_title(\"Action Ford total\")\n",
    "    \n",
    "    #### Affichage second tableau 10%\n",
    "    axes[1].plot(x, y, data = un_dixieme)\n",
    "    axes[1].set_title(\"Echantillon 10%\")\n",
    "    \n",
    "    #### Affichage troisième tableau 5%\n",
    "    axes[2].plot(x, y, data = un_vingtieme)\n",
    "    axes[2].set_title(\"Echantillon 5%\")\n",
    "\n",
    "\n",
    "trois_graph(\"Num\", \"Open\" ) #### Appel de la fonction"
   ]
  },
  {
   "cell_type": "code",
   "execution_count": 71,
   "metadata": {
    "collapsed": false
   },
   "outputs": [
    {
     "data": {
      "text/html": [
       "<div>\n",
       "<table border=\"1\" class=\"dataframe\">\n",
       "  <thead>\n",
       "    <tr style=\"text-align: right;\">\n",
       "      <th></th>\n",
       "      <th>Date</th>\n",
       "      <th>Open</th>\n",
       "      <th>High</th>\n",
       "      <th>Low</th>\n",
       "      <th>Close</th>\n",
       "      <th>Adj Close</th>\n",
       "      <th>Volume</th>\n",
       "      <th>Num</th>\n",
       "    </tr>\n",
       "  </thead>\n",
       "  <tbody>\n",
       "    <tr>\n",
       "      <th>0</th>\n",
       "      <td>2012-03-13</td>\n",
       "      <td>12.48</td>\n",
       "      <td>12.72</td>\n",
       "      <td>12.40</td>\n",
       "      <td>12.70</td>\n",
       "      <td>9.386694</td>\n",
       "      <td>42783600</td>\n",
       "      <td>1</td>\n",
       "    </tr>\n",
       "    <tr>\n",
       "      <th>1</th>\n",
       "      <td>2012-03-14</td>\n",
       "      <td>12.64</td>\n",
       "      <td>12.90</td>\n",
       "      <td>12.63</td>\n",
       "      <td>12.88</td>\n",
       "      <td>9.519732</td>\n",
       "      <td>47578500</td>\n",
       "      <td>2</td>\n",
       "    </tr>\n",
       "    <tr>\n",
       "      <th>2</th>\n",
       "      <td>2012-03-15</td>\n",
       "      <td>12.90</td>\n",
       "      <td>13.04</td>\n",
       "      <td>12.83</td>\n",
       "      <td>12.90</td>\n",
       "      <td>9.534516</td>\n",
       "      <td>55286600</td>\n",
       "      <td>3</td>\n",
       "    </tr>\n",
       "  </tbody>\n",
       "</table>\n",
       "</div>"
      ],
      "text/plain": [
       "        Date   Open   High    Low  Close  Adj Close    Volume  Num\n",
       "0 2012-03-13  12.48  12.72  12.40  12.70   9.386694  42783600    1\n",
       "1 2012-03-14  12.64  12.90  12.63  12.88   9.519732  47578500    2\n",
       "2 2012-03-15  12.90  13.04  12.83  12.90   9.534516  55286600    3"
      ]
     },
     "execution_count": 71,
     "metadata": {},
     "output_type": "execute_result"
    }
   ],
   "source": [
    "#### Modification de l'index pour que ce soit la variable \"Num\"\n",
    "\n",
    "ford = ford.reset_index()\n",
    "ford.head(3)\n",
    "\n",
    "# ford.index = ford[\"Num\"]\n",
    "# ford"
   ]
  },
  {
   "cell_type": "markdown",
   "metadata": {},
   "source": [
    "On génère une moyenne mobile avec une fenètre de 80 cotations. On place les résultats dans la colonne \"**Moyenne mobile**\"."
   ]
  },
  {
   "cell_type": "code",
   "execution_count": 72,
   "metadata": {
    "collapsed": false
   },
   "outputs": [
    {
     "data": {
      "text/html": [
       "<div>\n",
       "<table border=\"1\" class=\"dataframe\">\n",
       "  <thead>\n",
       "    <tr style=\"text-align: right;\">\n",
       "      <th></th>\n",
       "      <th>Open</th>\n",
       "      <th>Moyenne_Mobile</th>\n",
       "    </tr>\n",
       "  </thead>\n",
       "  <tbody>\n",
       "    <tr>\n",
       "      <th>1772</th>\n",
       "      <td>8.80</td>\n",
       "      <td>8.564000</td>\n",
       "    </tr>\n",
       "    <tr>\n",
       "      <th>1773</th>\n",
       "      <td>8.86</td>\n",
       "      <td>8.553375</td>\n",
       "    </tr>\n",
       "    <tr>\n",
       "      <th>1774</th>\n",
       "      <td>8.95</td>\n",
       "      <td>8.545875</td>\n",
       "    </tr>\n",
       "    <tr>\n",
       "      <th>1775</th>\n",
       "      <td>9.07</td>\n",
       "      <td>8.545250</td>\n",
       "    </tr>\n",
       "    <tr>\n",
       "      <th>1776</th>\n",
       "      <td>9.21</td>\n",
       "      <td>8.547625</td>\n",
       "    </tr>\n",
       "  </tbody>\n",
       "</table>\n",
       "</div>"
      ],
      "text/plain": [
       "      Open  Moyenne_Mobile\n",
       "1772  8.80        8.564000\n",
       "1773  8.86        8.553375\n",
       "1774  8.95        8.545875\n",
       "1775  9.07        8.545250\n",
       "1776  9.21        8.547625"
      ]
     },
     "execution_count": 72,
     "metadata": {},
     "output_type": "execute_result"
    }
   ],
   "source": [
    "#### Moyenne mobile \n",
    "\n",
    "#### Moyenne mobile à fenètre de 80\n",
    "ford[\"Moyenne_Mobile\"] = ford[\"Open\"].rolling(window =80).mean()\n",
    "\n",
    "ford[[\"Open\", \"Moyenne_Mobile\"]].tail(5) #### 5 dernières colonnes de notre dataset\n",
    "\n",
    "#ford"
   ]
  },
  {
   "cell_type": "code",
   "execution_count": null,
   "metadata": {
    "collapsed": true
   },
   "outputs": [],
   "source": [
    "On trace les 4 graphiques cote à cote."
   ]
  },
  {
   "cell_type": "code",
   "execution_count": 75,
   "metadata": {
    "collapsed": false
   },
   "outputs": [
    {
     "data": {
      "text/plain": [
       "<matplotlib.text.Text at 0x2b69c6c32b0>"
      ]
     },
     "execution_count": 75,
     "metadata": {},
     "output_type": "execute_result"
    },
    {
     "data": {
      "image/png": "[encoded data removed]",
      "text/plain": [
       "<matplotlib.figure.Figure at 0x2b69c9a4240>"
      ]
     },
     "metadata": {},
     "output_type": "display_data"
    }
   ],
   "source": [
    "#### On affiche les 4 graphiques en même temps\n",
    "\n",
    "#### Sous graphique d'une ligne et 2 colonnes\n",
    "fig, axes = plt.subplots(nrows = 1, ncols = 4, figsize = (10,5))\n",
    "\n",
    "axes[0].plot(\"Num\", \"Open\", data = ford)\n",
    "axes[0].set_title(\"Original Plot\")\n",
    "axes[1].plot(\"Num\", \"Open\", data = un_dixieme)\n",
    "axes[1].set_title(\"Echantillon 10%\")\n",
    "axes[2].plot(\"Num\", \"Open\", data = un_vingtieme)\n",
    "axes[2].set_title(\"Echantillon 5%\")\n",
    "axes[3].plot(\"Num\", \"Moyenne_Mobile\", data = ford)\n",
    "axes[3].set_title(\"Moyenne Mobile à 80 cotations\")"
   ]
  },
  {
   "cell_type": "markdown",
   "metadata": {},
   "source": [
    "La moyenne mobile semble bien fitter les graphiques précedents. Qu'en est t-il si nous les superposons?"
   ]
  },
  {
   "cell_type": "code",
   "execution_count": 78,
   "metadata": {
    "collapsed": false
   },
   "outputs": [],
   "source": [
    "##### On affiche les données originale et les données lissée sur le même graphique\n",
    "\n",
    "\n",
    "def sup_graph(x, y1, y2):\n",
    "    \"\"\"\n",
    "        Entrée: Nombre de cotation(x), prix moyenne mobile (y1), prix high (y2)\n",
    "        \n",
    "        Sortie: Graphique\n",
    "    \n",
    "    \"\"\"\n",
    "    fig = plt.figure()\n",
    "    ax = fig.add_subplot(111);\n",
    "    #### Graphique 1: Moyenne mobile\n",
    "    ax.plot(ford[x], ford[y1], color = (0,0,0), linewidth = 4, alpha =.9, label = \"Lissé MM\")\n",
    "    \n",
    "    #### Graphique 2: Plus haut de cotation\n",
    "    ax.plot(ford[x], ford[y2], color = (1,0,0), label = \"Original\")\n",
    "\n",
    "    ax.set_title('Les données originales et lissées')\n",
    "\n",
    "    ax.set_xlabel('Num')\n",
    "    ax.set_ylabel(\"Prix\")\n",
    "    ax.legend(loc = \"lower right\")"
   ]
  },
  {
   "cell_type": "code",
   "execution_count": 79,
   "metadata": {
    "collapsed": false
   },
   "outputs": [
    {
     "data": {
      "image/png": "[encoded data removed]",
      "text/plain": [
       "<matplotlib.figure.Figure at 0x2b69c4cb710>"
      ]
     },
     "metadata": {},
     "output_type": "display_data"
    }
   ],
   "source": [
    "sup_graph(\"Num\", \"Moyenne_Mobile\", \"High\")"
   ]
  },
  {
   "cell_type": "markdown",
   "metadata": {},
   "source": [
    "Le même code mais avec les dates en abscisses:"
   ]
  },
  {
   "cell_type": "code",
   "execution_count": 80,
   "metadata": {
    "collapsed": false
   },
   "outputs": [
    {
     "data": {
      "image/png": "[encoded data removed]",
      "text/plain": [
       "<matplotlib.figure.Figure at 0x2b69c76f470>"
      ]
     },
     "metadata": {},
     "output_type": "display_data"
    }
   ],
   "source": [
    "sup_graph(\"Date\", \"Moyenne_Mobile\", \"High\")"
   ]
  },
  {
   "cell_type": "markdown",
   "metadata": {
    "collapsed": false
   },
   "source": [
    "On prendra ici les cotations entre 200 et 400."
   ]
  },
  {
   "cell_type": "code",
   "execution_count": 90,
   "metadata": {
    "collapsed": true
   },
   "outputs": [],
   "source": [
    "#### Cotation entre 5000 et 10000"
   ]
  },
  {
   "cell_type": "code",
   "execution_count": 91,
   "metadata": {
    "collapsed": false
   },
   "outputs": [],
   "source": [
    "Num_ford = ford[(ford[\"Num\"] >= 200) & (ford[\"Num\"]<=400)]"
   ]
  },
  {
   "cell_type": "code",
   "execution_count": 94,
   "metadata": {
    "collapsed": false
   },
   "outputs": [
    {
     "data": {
      "text/html": [
       "<div>\n",
       "<table border=\"1\" class=\"dataframe\">\n",
       "  <thead>\n",
       "    <tr style=\"text-align: right;\">\n",
       "      <th></th>\n",
       "      <th>Date</th>\n",
       "      <th>Open</th>\n",
       "      <th>High</th>\n",
       "      <th>Low</th>\n",
       "      <th>Close</th>\n",
       "      <th>Adj Close</th>\n",
       "      <th>Volume</th>\n",
       "      <th>Num</th>\n",
       "      <th>Moyenne_Mobile</th>\n",
       "    </tr>\n",
       "  </thead>\n",
       "  <tbody>\n",
       "    <tr>\n",
       "      <th>199</th>\n",
       "      <td>2012-12-27</td>\n",
       "      <td>12.79</td>\n",
       "      <td>12.81</td>\n",
       "      <td>12.36</td>\n",
       "      <td>12.76</td>\n",
       "      <td>9.569590</td>\n",
       "      <td>108315100</td>\n",
       "      <td>200</td>\n",
       "      <td>10.693125</td>\n",
       "    </tr>\n",
       "    <tr>\n",
       "      <th>200</th>\n",
       "      <td>2012-12-28</td>\n",
       "      <td>12.55</td>\n",
       "      <td>12.88</td>\n",
       "      <td>12.52</td>\n",
       "      <td>12.87</td>\n",
       "      <td>9.652084</td>\n",
       "      <td>95668600</td>\n",
       "      <td>201</td>\n",
       "      <td>10.732625</td>\n",
       "    </tr>\n",
       "    <tr>\n",
       "      <th>201</th>\n",
       "      <td>2012-12-31</td>\n",
       "      <td>12.88</td>\n",
       "      <td>13.08</td>\n",
       "      <td>12.76</td>\n",
       "      <td>12.95</td>\n",
       "      <td>9.712079</td>\n",
       "      <td>106908900</td>\n",
       "      <td>202</td>\n",
       "      <td>10.776500</td>\n",
       "    </tr>\n",
       "    <tr>\n",
       "      <th>202</th>\n",
       "      <td>2013-01-02</td>\n",
       "      <td>13.23</td>\n",
       "      <td>13.28</td>\n",
       "      <td>13.00</td>\n",
       "      <td>13.20</td>\n",
       "      <td>9.899574</td>\n",
       "      <td>75274700</td>\n",
       "      <td>203</td>\n",
       "      <td>10.823750</td>\n",
       "    </tr>\n",
       "    <tr>\n",
       "      <th>203</th>\n",
       "      <td>2013-01-03</td>\n",
       "      <td>13.24</td>\n",
       "      <td>13.70</td>\n",
       "      <td>13.05</td>\n",
       "      <td>13.46</td>\n",
       "      <td>10.094565</td>\n",
       "      <td>121284700</td>\n",
       "      <td>204</td>\n",
       "      <td>10.868500</td>\n",
       "    </tr>\n",
       "    <tr>\n",
       "      <th>204</th>\n",
       "      <td>2013-01-04</td>\n",
       "      <td>13.51</td>\n",
       "      <td>13.61</td>\n",
       "      <td>13.35</td>\n",
       "      <td>13.57</td>\n",
       "      <td>10.177060</td>\n",
       "      <td>54669900</td>\n",
       "      <td>205</td>\n",
       "      <td>10.913000</td>\n",
       "    </tr>\n",
       "    <tr>\n",
       "      <th>205</th>\n",
       "      <td>2013-01-07</td>\n",
       "      <td>13.52</td>\n",
       "      <td>13.58</td>\n",
       "      <td>13.35</td>\n",
       "      <td>13.43</td>\n",
       "      <td>10.072066</td>\n",
       "      <td>43482400</td>\n",
       "      <td>206</td>\n",
       "      <td>10.956000</td>\n",
       "    </tr>\n",
       "    <tr>\n",
       "      <th>206</th>\n",
       "      <td>2013-01-08</td>\n",
       "      <td>13.38</td>\n",
       "      <td>13.43</td>\n",
       "      <td>13.20</td>\n",
       "      <td>13.35</td>\n",
       "      <td>10.012066</td>\n",
       "      <td>46336200</td>\n",
       "      <td>207</td>\n",
       "      <td>10.996000</td>\n",
       "    </tr>\n",
       "    <tr>\n",
       "      <th>207</th>\n",
       "      <td>2013-01-09</td>\n",
       "      <td>13.40</td>\n",
       "      <td>13.60</td>\n",
       "      <td>13.39</td>\n",
       "      <td>13.47</td>\n",
       "      <td>10.102062</td>\n",
       "      <td>36973900</td>\n",
       "      <td>208</td>\n",
       "      <td>11.035375</td>\n",
       "    </tr>\n",
       "    <tr>\n",
       "      <th>208</th>\n",
       "      <td>2013-01-10</td>\n",
       "      <td>13.78</td>\n",
       "      <td>13.94</td>\n",
       "      <td>13.68</td>\n",
       "      <td>13.83</td>\n",
       "      <td>10.372054</td>\n",
       "      <td>84884300</td>\n",
       "      <td>209</td>\n",
       "      <td>11.080125</td>\n",
       "    </tr>\n",
       "  </tbody>\n",
       "</table>\n",
       "</div>"
      ],
      "text/plain": [
       "          Date   Open   High    Low  Close  Adj Close     Volume  Num  \\\n",
       "199 2012-12-27  12.79  12.81  12.36  12.76   9.569590  108315100  200   \n",
       "200 2012-12-28  12.55  12.88  12.52  12.87   9.652084   95668600  201   \n",
       "201 2012-12-31  12.88  13.08  12.76  12.95   9.712079  106908900  202   \n",
       "202 2013-01-02  13.23  13.28  13.00  13.20   9.899574   75274700  203   \n",
       "203 2013-01-03  13.24  13.70  13.05  13.46  10.094565  121284700  204   \n",
       "204 2013-01-04  13.51  13.61  13.35  13.57  10.177060   54669900  205   \n",
       "205 2013-01-07  13.52  13.58  13.35  13.43  10.072066   43482400  206   \n",
       "206 2013-01-08  13.38  13.43  13.20  13.35  10.012066   46336200  207   \n",
       "207 2013-01-09  13.40  13.60  13.39  13.47  10.102062   36973900  208   \n",
       "208 2013-01-10  13.78  13.94  13.68  13.83  10.372054   84884300  209   \n",
       "\n",
       "     Moyenne_Mobile  \n",
       "199       10.693125  \n",
       "200       10.732625  \n",
       "201       10.776500  \n",
       "202       10.823750  \n",
       "203       10.868500  \n",
       "204       10.913000  \n",
       "205       10.956000  \n",
       "206       10.996000  \n",
       "207       11.035375  \n",
       "208       11.080125  "
      ]
     },
     "execution_count": 94,
     "metadata": {},
     "output_type": "execute_result"
    }
   ],
   "source": [
    "Num_ford[:10]"
   ]
  },
  {
   "cell_type": "markdown",
   "metadata": {},
   "source": [
    "Dans cette partie, on cherchera à prédire notre moyenne mobile à l'aide d'une régression linéaire"
   ]
  },
  {
   "cell_type": "code",
   "execution_count": null,
   "metadata": {
    "collapsed": true
   },
   "outputs": [],
   "source": []
  },
  {
   "cell_type": "code",
   "execution_count": 97,
   "metadata": {
    "collapsed": false
   },
   "outputs": [
    {
     "name": "stdout",
     "output_type": "stream",
     "text": [
      "y= 0.86 x + 0.93\n"
     ]
    }
   ],
   "source": [
    "#### Regression Linéaire\n",
    "\n",
    "from sklearn.linear_model import LinearRegression\n",
    "\n",
    "#### fit(X,y)\n",
    "\n",
    "#### On cherche a predire une moyenne mobile\n",
    "\n",
    "model = LinearRegression().fit(Num_ford[[\"Open\"]], Num_ford[[\"Moyenne_Mobile\"]])\n",
    "\n",
    "\n",
    "m = model.coef_[0]\n",
    "b = model.intercept_\n",
    "\n",
    "#### Equation de la ligne\n",
    "\n",
    "print(\"y=\", round(m[0], 2), \"x +\", round(b[0],2)) ##### Equation de la droite"
   ]
  },
  {
   "cell_type": "markdown",
   "metadata": {},
   "source": [
    "<math>\n",
    "Y = X \\beta + \\epsilon\n",
    "</math>"
   ]
  },
  {
   "cell_type": "code",
   "execution_count": 98,
   "metadata": {
    "collapsed": false
   },
   "outputs": [
    {
     "data": {
      "text/plain": [
       "array([[10.11843796],\n",
       "       [10.15236162],\n",
       "       [10.19004265],\n",
       "       [10.23062222],\n",
       "       [10.26905471],\n",
       "       [10.30727251],\n",
       "       [10.34420206],\n",
       "       [10.37855513],\n",
       "       [10.41237144],\n",
       "       [10.45080394]])"
      ]
     },
     "execution_count": 98,
     "metadata": {},
     "output_type": "execute_result"
    }
   ],
   "source": [
    "#### Prédiction de la moyenne mobile du cours d'ouverture\n",
    "\n",
    "prediction = model.predict(Num_ford[[\"Moyenne_Mobile\"]])\n",
    "prediction[:10]"
   ]
  },
  {
   "cell_type": "code",
   "execution_count": 99,
   "metadata": {
    "collapsed": false
   },
   "outputs": [
    {
     "data": {
      "text/html": [
       "<div>\n",
       "<table border=\"1\" class=\"dataframe\">\n",
       "  <thead>\n",
       "    <tr style=\"text-align: right;\">\n",
       "      <th></th>\n",
       "      <th>Pred</th>\n",
       "    </tr>\n",
       "  </thead>\n",
       "  <tbody>\n",
       "    <tr>\n",
       "      <th>199</th>\n",
       "      <td>10.118438</td>\n",
       "    </tr>\n",
       "    <tr>\n",
       "      <th>200</th>\n",
       "      <td>10.152362</td>\n",
       "    </tr>\n",
       "    <tr>\n",
       "      <th>201</th>\n",
       "      <td>10.190043</td>\n",
       "    </tr>\n",
       "    <tr>\n",
       "      <th>202</th>\n",
       "      <td>10.230622</td>\n",
       "    </tr>\n",
       "    <tr>\n",
       "      <th>203</th>\n",
       "      <td>10.269055</td>\n",
       "    </tr>\n",
       "  </tbody>\n",
       "</table>\n",
       "</div>"
      ],
      "text/plain": [
       "          Pred\n",
       "199  10.118438\n",
       "200  10.152362\n",
       "201  10.190043\n",
       "202  10.230622\n",
       "203  10.269055"
      ]
     },
     "execution_count": 99,
     "metadata": {},
     "output_type": "execute_result"
    }
   ],
   "source": [
    "##### On crée un nouveau data frame avec les valeurs prédites\n",
    "prediction = pd.DataFrame(data = prediction, index = Num_ford.index.values, columns = [\"Pred\"])\n",
    "\n",
    "prediction.head(5)  #### Affichage des 5 valeurs"
   ]
  },
  {
   "cell_type": "code",
   "execution_count": 100,
   "metadata": {
    "collapsed": false
   },
   "outputs": [
    {
     "data": {
      "text/html": [
       "<div>\n",
       "<table border=\"1\" class=\"dataframe\">\n",
       "  <thead>\n",
       "    <tr style=\"text-align: right;\">\n",
       "      <th></th>\n",
       "      <th>Date</th>\n",
       "      <th>Open</th>\n",
       "      <th>High</th>\n",
       "      <th>Low</th>\n",
       "      <th>Close</th>\n",
       "      <th>Adj Close</th>\n",
       "      <th>Volume</th>\n",
       "      <th>Num</th>\n",
       "      <th>Moyenne_Mobile</th>\n",
       "      <th>Pred</th>\n",
       "    </tr>\n",
       "  </thead>\n",
       "  <tbody>\n",
       "    <tr>\n",
       "      <th>199</th>\n",
       "      <td>2012-12-27</td>\n",
       "      <td>12.79</td>\n",
       "      <td>12.81</td>\n",
       "      <td>12.36</td>\n",
       "      <td>12.76</td>\n",
       "      <td>9.569590</td>\n",
       "      <td>108315100</td>\n",
       "      <td>200</td>\n",
       "      <td>10.693125</td>\n",
       "      <td>10.118438</td>\n",
       "    </tr>\n",
       "    <tr>\n",
       "      <th>200</th>\n",
       "      <td>2012-12-28</td>\n",
       "      <td>12.55</td>\n",
       "      <td>12.88</td>\n",
       "      <td>12.52</td>\n",
       "      <td>12.87</td>\n",
       "      <td>9.652084</td>\n",
       "      <td>95668600</td>\n",
       "      <td>201</td>\n",
       "      <td>10.732625</td>\n",
       "      <td>10.152362</td>\n",
       "    </tr>\n",
       "    <tr>\n",
       "      <th>201</th>\n",
       "      <td>2012-12-31</td>\n",
       "      <td>12.88</td>\n",
       "      <td>13.08</td>\n",
       "      <td>12.76</td>\n",
       "      <td>12.95</td>\n",
       "      <td>9.712079</td>\n",
       "      <td>106908900</td>\n",
       "      <td>202</td>\n",
       "      <td>10.776500</td>\n",
       "      <td>10.190043</td>\n",
       "    </tr>\n",
       "    <tr>\n",
       "      <th>202</th>\n",
       "      <td>2013-01-02</td>\n",
       "      <td>13.23</td>\n",
       "      <td>13.28</td>\n",
       "      <td>13.00</td>\n",
       "      <td>13.20</td>\n",
       "      <td>9.899574</td>\n",
       "      <td>75274700</td>\n",
       "      <td>203</td>\n",
       "      <td>10.823750</td>\n",
       "      <td>10.230622</td>\n",
       "    </tr>\n",
       "    <tr>\n",
       "      <th>203</th>\n",
       "      <td>2013-01-03</td>\n",
       "      <td>13.24</td>\n",
       "      <td>13.70</td>\n",
       "      <td>13.05</td>\n",
       "      <td>13.46</td>\n",
       "      <td>10.094565</td>\n",
       "      <td>121284700</td>\n",
       "      <td>204</td>\n",
       "      <td>10.868500</td>\n",
       "      <td>10.269055</td>\n",
       "    </tr>\n",
       "  </tbody>\n",
       "</table>\n",
       "</div>"
      ],
      "text/plain": [
       "          Date   Open   High    Low  Close  Adj Close     Volume  Num  \\\n",
       "199 2012-12-27  12.79  12.81  12.36  12.76   9.569590  108315100  200   \n",
       "200 2012-12-28  12.55  12.88  12.52  12.87   9.652084   95668600  201   \n",
       "201 2012-12-31  12.88  13.08  12.76  12.95   9.712079  106908900  202   \n",
       "202 2013-01-02  13.23  13.28  13.00  13.20   9.899574   75274700  203   \n",
       "203 2013-01-03  13.24  13.70  13.05  13.46  10.094565  121284700  204   \n",
       "\n",
       "     Moyenne_Mobile       Pred  \n",
       "199       10.693125  10.118438  \n",
       "200       10.732625  10.152362  \n",
       "201       10.776500  10.190043  \n",
       "202       10.823750  10.230622  \n",
       "203       10.868500  10.269055  "
      ]
     },
     "execution_count": 100,
     "metadata": {},
     "output_type": "execute_result"
    }
   ],
   "source": [
    "#### Jointure de la prediction avec l'ancienne table\n",
    "jointure = Num_ford.join(prediction, how = \"inner\") \n",
    "jointure.head(5)"
   ]
  },
  {
   "cell_type": "code",
   "execution_count": 101,
   "metadata": {
    "collapsed": false
   },
   "outputs": [
    {
     "data": {
      "text/plain": [
       "<matplotlib.legend.Legend at 0x2b69ca23d68>"
      ]
     },
     "execution_count": 101,
     "metadata": {},
     "output_type": "execute_result"
    },
    {
     "data": {
      "image/png": "[encoded data removed]",
      "text/plain": [
       "<matplotlib.figure.Figure at 0x2b69c5537f0>"
      ]
     },
     "metadata": {},
     "output_type": "display_data"
    }
   ],
   "source": [
    "#### Affichage de la moyenne mobile et de la prédiction\n",
    "\n",
    "fig = plt.figure()\n",
    "ax =fig.add_subplot(111)\n",
    "#### La variable d'ouverture\n",
    "ax.plot(jointure[\"Num\"], jointure[\"Moyenne_Mobile\"], color = (0,0,0), linewidth = 4, alpha = .9,label = \"Moyenne mobile\")\n",
    "#### La prédiction\n",
    "ax.plot(jointure[\"Num\"], jointure[\"Pred\"], color = (1,0,0), label = \"Prediction\")\n",
    "ax.set_title(\"Moyenne mobile vs Régression linéaire\")\n",
    "ax.set_xlabel(\"Num\")\n",
    "ax.set_ylabel(\"Prix\")\n",
    "ax.legend(loc=\"lower right\")"
   ]
  },
  {
   "cell_type": "code",
   "execution_count": 102,
   "metadata": {
    "collapsed": false
   },
   "outputs": [
    {
     "data": {
      "text/plain": [
       "0.628477529609937"
      ]
     },
     "execution_count": 102,
     "metadata": {},
     "output_type": "execute_result"
    }
   ],
   "source": [
    "import sklearn\n",
    "\n",
    "r_carre = sklearn.metrics.r2_score(jointure[\"Moyenne_Mobile\"],jointure[\"Pred\"], multioutput = \"uniform_average\")\n",
    "r_carre"
   ]
  },
  {
   "cell_type": "markdown",
   "metadata": {},
   "source": [
    "R_carre faible"
   ]
  }
 ],
 "metadata": {
  "kernelspec": {
   "display_name": "Python 3",
   "language": "python",
   "name": "python3"
  },
  "language_info": {
   "codemirror_mode": {
    "name": "ipython",
    "version": 3
   },
   "file_extension": ".py",
   "mimetype": "text/x-python",
   "name": "python",
   "nbconvert_exporter": "python",
   "pygments_lexer": "ipython3",
   "version": "3.6.0"
  }
 },
 "nbformat": 4,
 "nbformat_minor": 2
}
